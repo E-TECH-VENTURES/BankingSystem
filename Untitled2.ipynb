{
 "cells": [
  {
   "cell_type": "code",
   "execution_count": 5,
   "metadata": {},
   "outputs": [],
   "source": [
    "class Node:\n",
    "    def _init_(self,data):\n",
    "        self.data=data\n",
    "        self.next=None\n",
    "class Queue:\n",
    "    def _init_(self):\n",
    "        self.front=None\n",
    "        self.rear=None\n",
    "        self.ctr=0\n",
    "    def Enqueue(self,data):\n",
    "        node=Node(data)\n",
    "        if self.front==None:\n",
    "            self.front=node\n",
    "            self.rear=node\n",
    "        else:\n",
    "            self.rear.next=node\n",
    "            self.rear=node\n",
    "        print(\"Node enqueued to Queue\",data)\n",
    "        self.ctr+=1\n",
    "        return\n",
    "    def Dequeue(self):\n",
    "        if self.front==None:\n",
    "            print(\"No node exists\")\n",
    "        else:\n",
    "            self.front=self.front.next\n",
    "            self.ctr-=1\n",
    "            return\n",
    "    def traverse(self):\n",
    "        if self.front==None:\n",
    "            print(\"No node exists\")\n",
    "            return\n",
    "        temp=self.front\n",
    "        while temp is not None:\n",
    "            print(temp.data)\n",
    "            temp=temp.next\n",
    "\n",
    "        "
   ]
  },
  {
   "cell_type": "code",
   "execution_count": 6,
   "metadata": {},
   "outputs": [
    {
     "name": "stdout",
     "output_type": "stream",
     "text": [
      "1.enqueue \n",
      "2.dequeue \n",
      "3.traverse queue\n",
      "4.exit\n",
      "enter your choice 1: 2\n"
     ]
    },
    {
     "ename": "NameError",
     "evalue": "name 'Empty' is not defined",
     "output_type": "error",
     "traceback": [
      "\u001b[1;31m---------------------------------------------------------------------------\u001b[0m",
      "\u001b[1;31mNameError\u001b[0m                                 Traceback (most recent call last)",
      "\u001b[1;32m<ipython-input-6-5c2d7c2adc7d>\u001b[0m in \u001b[0;36m<module>\u001b[1;34m()\u001b[0m\n\u001b[0;32m     51\u001b[0m         \u001b[0ml\u001b[0m\u001b[1;33m.\u001b[0m\u001b[0menqueue\u001b[0m\u001b[1;33m(\u001b[0m\u001b[0mcustomer\u001b[0m\u001b[1;33m,\u001b[0m\u001b[0mprice_ticket\u001b[0m\u001b[1;33m,\u001b[0m\u001b[0mmovie_name\u001b[0m\u001b[1;33m)\u001b[0m\u001b[1;33m\u001b[0m\u001b[0m\n\u001b[0;32m     52\u001b[0m     \u001b[1;32melif\u001b[0m \u001b[0mch\u001b[0m\u001b[1;33m==\u001b[0m\u001b[1;36m2\u001b[0m\u001b[1;33m:\u001b[0m\u001b[1;33m\u001b[0m\u001b[0m\n\u001b[1;32m---> 53\u001b[1;33m         \u001b[0ml\u001b[0m\u001b[1;33m.\u001b[0m\u001b[0mdequeue\u001b[0m\u001b[1;33m(\u001b[0m\u001b[1;33m)\u001b[0m\u001b[1;33m\u001b[0m\u001b[0m\n\u001b[0m\u001b[0;32m     54\u001b[0m     \u001b[1;32melif\u001b[0m \u001b[0mch\u001b[0m\u001b[1;33m==\u001b[0m\u001b[1;36m3\u001b[0m\u001b[1;33m:\u001b[0m\u001b[1;33m\u001b[0m\u001b[0m\n\u001b[0;32m     55\u001b[0m         \u001b[0ml\u001b[0m\u001b[1;33m.\u001b[0m\u001b[0mtraverse\u001b[0m\u001b[1;33m(\u001b[0m\u001b[1;33m)\u001b[0m\u001b[1;33m\u001b[0m\u001b[0m\n",
      "\u001b[1;32m<ipython-input-6-5c2d7c2adc7d>\u001b[0m in \u001b[0;36mdequeue\u001b[1;34m(self)\u001b[0m\n\u001b[0;32m     18\u001b[0m   \u001b[1;32mdef\u001b[0m \u001b[0mdequeue\u001b[0m\u001b[1;33m(\u001b[0m\u001b[0mself\u001b[0m\u001b[1;33m)\u001b[0m\u001b[1;33m:\u001b[0m\u001b[1;33m\u001b[0m\u001b[0m\n\u001b[0;32m     19\u001b[0m     \u001b[1;32mif\u001b[0m \u001b[0mself\u001b[0m\u001b[1;33m.\u001b[0m\u001b[0mis_empty\u001b[0m\u001b[1;33m(\u001b[0m\u001b[1;33m)\u001b[0m\u001b[1;33m:\u001b[0m\u001b[1;33m\u001b[0m\u001b[0m\n\u001b[1;32m---> 20\u001b[1;33m       \u001b[1;32mraise\u001b[0m \u001b[0mEmpty\u001b[0m\u001b[1;33m(\u001b[0m\u001b[1;34m'Queue is empty'\u001b[0m\u001b[1;33m)\u001b[0m\u001b[1;33m\u001b[0m\u001b[0m\n\u001b[0m\u001b[0;32m     21\u001b[0m     \u001b[0mself\u001b[0m\u001b[1;33m.\u001b[0m\u001b[0m_head\u001b[0m \u001b[1;33m=\u001b[0m \u001b[0mself\u001b[0m\u001b[1;33m.\u001b[0m\u001b[0m_head\u001b[0m\u001b[1;33m.\u001b[0m\u001b[0m_next\u001b[0m\u001b[1;33m\u001b[0m\u001b[0m\n\u001b[0;32m     22\u001b[0m     \u001b[0mself\u001b[0m\u001b[1;33m.\u001b[0m\u001b[0m_size\u001b[0m \u001b[1;33m-=\u001b[0m \u001b[1;36m1\u001b[0m\u001b[1;33m\u001b[0m\u001b[0m\n",
      "\u001b[1;31mNameError\u001b[0m: name 'Empty' is not defined"
     ]
    }
   ],
   "source": [
    "class Cinema_ticket_seller:\n",
    "  class _Node:\n",
    "    __slots__ = '_namecustomer', '_next','_priceticket','_moviename'         \n",
    "    def __init__(self, name,price,movie, next):                                                           \n",
    "      self._namecustomer = name\n",
    "      self._priceticket=price\n",
    "      self._moviename=movie  \n",
    "      self._next = next \n",
    "  #------------------------------- queue methods -------------------\n",
    "  def __init__(self):\n",
    "        self._head = None\n",
    "        self._tail = None                                                                                                  \n",
    "        self._size = 0                         \n",
    "  def __len__(self):\n",
    "    return self._size\n",
    "  def is_empty(self):\n",
    "    return self._size == 0\n",
    "  def dequeue(self):\n",
    "    if self.is_empty():\n",
    "      raise Empty('Queue is empty')\n",
    "    self._head = self._head._next\n",
    "    self._size -= 1\n",
    "    if self.is_empty():\n",
    "      self._tail = None                     \n",
    "  def enqueue(self, name,price,movie):\n",
    "    new_node = self._Node(name,price,movie, None)            \n",
    "    if self.is_empty():\n",
    "      self._head = new_node                  \n",
    "    else:\n",
    "      self._tail._next = new_node\n",
    "    self._tail = new_node                    \n",
    "    self._size += 1\n",
    "  def traverse(self): \n",
    "        if self._head is None:\n",
    "            print (\"empty\")\n",
    "        node = self._head\n",
    "        while node :\n",
    "            print(node._namecustomer,\" ,\",node._priceticket,\" ,\",node._moviename)\n",
    "            node = node._next\n",
    "l=Cinema_ticket_seller()\n",
    "print(\"1.enqueue \")\n",
    "print(\"2.dequeue \")\n",
    "print(\"3.traverse queue\")\n",
    "print(\"4.exit\")\n",
    "while True:\n",
    "    ch=eval(input(\"enter your choice 1: \"))\n",
    "    if ch==1:\n",
    "        customer=input(\"enter the name of customer : \")\n",
    "        price_ticket=int(input(\"enter the price of ticket : \"))\n",
    "        movie_name=input(\"enter the name of movie \")\n",
    "        l.enqueue(customer,price_ticket,movie_name)\n",
    "    elif ch==2:\n",
    "        l.dequeue()\n",
    "    elif ch==3:\n",
    "        l.traverse()\n",
    "    else:\n",
    "        print(\"exit\")\n",
    "        break\n",
    "        \n",
    "        \n",
    "\n"
   ]
  },
  {
   "cell_type": "code",
   "execution_count": 7,
   "metadata": {},
   "outputs": [
    {
     "name": "stdout",
     "output_type": "stream",
     "text": [
      "********************QUEUE********************\n",
      "1.Enqueue \n",
      "2.Dequeue \n",
      "3.Traverse \n",
      "4.Number of Nodes \n",
      "5.Exit\n",
      "Enter choice 1\n",
      "Enter data 2\n",
      "1.Enqueue \n",
      "2.Dequeue \n",
      "3.Traverse \n",
      "4.Number of Nodes \n",
      "5.Exit\n",
      "Enter choice 1\n",
      "Enter data 6\n",
      "1.Enqueue \n",
      "2.Dequeue \n",
      "3.Traverse \n",
      "4.Number of Nodes \n",
      "5.Exit\n",
      "Enter choice 4\n",
      "Number of Nodes are 2\n",
      "1.Enqueue \n",
      "2.Dequeue \n",
      "3.Traverse \n",
      "4.Number of Nodes \n",
      "5.Exit\n",
      "Enter choice 2\n",
      "1.Enqueue \n",
      "2.Dequeue \n",
      "3.Traverse \n",
      "4.Number of Nodes \n",
      "5.Exit\n",
      "Enter choice 4\n",
      "Number of Nodes are 1\n",
      "1.Enqueue \n",
      "2.Dequeue \n",
      "3.Traverse \n",
      "4.Number of Nodes \n",
      "5.Exit\n",
      "Enter choice 5\n",
      "Quit\n"
     ]
    }
   ],
   "source": [
    "\n",
    "class LinkedQueue:\n",
    "  \n",
    "\n",
    "  \n",
    "  class _Node:\n",
    "   \n",
    "    __slots__ = '_element', '_next'         \n",
    "\n",
    "    def __init__(self, element, next):\n",
    "      self._element = element\n",
    "      self._next = next\n",
    "\n",
    "  \n",
    "  def __init__(self):\n",
    "    \"\"\"Create an empty queue.\"\"\"\n",
    "    self._head = None\n",
    "    self._tail = None\n",
    "    self._size = 0 \n",
    "\n",
    "  def __len__(self):\n",
    "    \n",
    "    return self._size\n",
    "\n",
    "  def is_empty(self):\n",
    "    \n",
    "    return self._size == 0\n",
    "\n",
    "  def first(self):\n",
    "   \n",
    "    if self.is_empty():\n",
    "      raise ValueError('Queue is empty')\n",
    "    return self._head._element              \n",
    "\n",
    "  def dequeue(self):\n",
    "   \n",
    "    if self.is_empty():\n",
    "      raise ValueError('Queue is empty')\n",
    "    answer = self._head._element\n",
    "    self._head = self._head._next\n",
    "    self._size -= 1\n",
    "    if self.is_empty():                     \n",
    "      self._tail = None                     \n",
    "    return answer\n",
    "\n",
    "  def enqueue(self, e):\n",
    "   \n",
    "    newest = self._Node(e, None)           \n",
    "    if self.is_empty():\n",
    "      self._head = newest                   \n",
    "    else:\n",
    "      self._tail._next = newest\n",
    "    self._tail = newest                     \n",
    "    self._size += 1\n",
    "  def traverse(self):\n",
    "   \n",
    "        if self._head is None:\n",
    "            print (\"empty\")\n",
    "        node = self._head\n",
    "        while node :\n",
    "            print(node._element)\n",
    "            node = node._next\n",
    "def menu():\n",
    "    print(\"1.Enqueue \\n2.Dequeue \\n3.Traverse \\n4.Number of Nodes \\n5.Exit\")\n",
    "    ch=int(input(\"Enter choice \"))\n",
    "    return ch\n",
    "print(\"********************QUEUE********************\")\n",
    "s=LinkedQueue()\n",
    "while True:\n",
    "    ch=menu()\n",
    "    if ch==1:\n",
    "        data=input(\"Enter data \")\n",
    "        s.enqueue(data)\n",
    "    elif ch==2:\n",
    "        s.dequeue()\n",
    "    elif ch==3:\n",
    "        s.traverse()\n",
    "    elif ch==4:\n",
    "        print(\"Number of Nodes are\",s._size)\n",
    "    else: \n",
    "        print(\"Quit\")\n",
    "        break"
   ]
  },
  {
   "cell_type": "code",
   "execution_count": 4,
   "metadata": {},
   "outputs": [
    {
     "name": "stdout",
     "output_type": "stream",
     "text": [
      "Node pushed to stack r\n",
      "Node pushed to stack o\n",
      "Node pushed to stack o\n",
      "Node pushed to stack n\n",
      "Node pushed to stack h\n",
      "Node pushed to stack a\n",
      "Node pushed to stack m\n",
      "r\n",
      "o\n",
      "o\n",
      "n\n",
      "h\n",
      "a\n",
      "m\n"
     ]
    },
    {
     "ename": "AttributeError",
     "evalue": "'builtin_function_or_method' object has no attribute 'data'",
     "output_type": "error",
     "traceback": [
      "\u001b[1;31m---------------------------------------------------------------------------\u001b[0m",
      "\u001b[1;31mAttributeError\u001b[0m                            Traceback (most recent call last)",
      "\u001b[1;32m<ipython-input-4-4ff1401abfec>\u001b[0m in \u001b[0;36m<module>\u001b[1;34m()\u001b[0m\n\u001b[0;32m     62\u001b[0m \u001b[0ma\u001b[0m\u001b[1;33m.\u001b[0m\u001b[0mpush\u001b[0m\u001b[1;33m(\u001b[0m\u001b[1;34m'a'\u001b[0m\u001b[1;33m)\u001b[0m\u001b[1;33m\u001b[0m\u001b[0m\n\u001b[0;32m     63\u001b[0m \u001b[0ma\u001b[0m\u001b[1;33m.\u001b[0m\u001b[0mpush\u001b[0m\u001b[1;33m(\u001b[0m\u001b[1;34m'm'\u001b[0m\u001b[1;33m)\u001b[0m\u001b[1;33m\u001b[0m\u001b[0m\n\u001b[1;32m---> 64\u001b[1;33m \u001b[0ma\u001b[0m\u001b[1;33m.\u001b[0m\u001b[0mtraverse\u001b[0m\u001b[1;33m(\u001b[0m\u001b[1;33m)\u001b[0m\u001b[1;33m\u001b[0m\u001b[0m\n\u001b[0m\u001b[0;32m     65\u001b[0m \u001b[0ma\u001b[0m\u001b[1;33m.\u001b[0m\u001b[0mreverse\u001b[0m\u001b[1;33m(\u001b[0m\u001b[1;33m)\u001b[0m\u001b[1;33m\u001b[0m\u001b[0m\n\u001b[0;32m     66\u001b[0m \u001b[0mprint\u001b[0m\u001b[1;33m(\u001b[0m\u001b[1;34m\"\\nReversed Linked List\"\u001b[0m\u001b[1;33m)\u001b[0m\u001b[1;33m\u001b[0m\u001b[0m\n",
      "\u001b[1;32m<ipython-input-4-4ff1401abfec>\u001b[0m in \u001b[0;36mtraverse\u001b[1;34m(self)\u001b[0m\n\u001b[0;32m     41\u001b[0m         \u001b[0mtemp\u001b[0m\u001b[1;33m=\u001b[0m\u001b[0mself\u001b[0m\u001b[1;33m.\u001b[0m\u001b[0mhead\u001b[0m\u001b[1;33m\u001b[0m\u001b[0m\n\u001b[0;32m     42\u001b[0m         \u001b[1;32mwhile\u001b[0m \u001b[0mtemp\u001b[0m \u001b[1;32mis\u001b[0m \u001b[1;32mnot\u001b[0m \u001b[1;32mNone\u001b[0m\u001b[1;33m:\u001b[0m\u001b[1;33m\u001b[0m\u001b[0m\n\u001b[1;32m---> 43\u001b[1;33m             \u001b[0mprint\u001b[0m\u001b[1;33m(\u001b[0m\u001b[0mtemp\u001b[0m\u001b[1;33m.\u001b[0m\u001b[0mdata\u001b[0m\u001b[1;33m)\u001b[0m\u001b[1;33m\u001b[0m\u001b[0m\n\u001b[0m\u001b[0;32m     44\u001b[0m             \u001b[0mtemp\u001b[0m\u001b[1;33m=\u001b[0m\u001b[0mtemp\u001b[0m\u001b[1;33m.\u001b[0m\u001b[0mnext\u001b[0m\u001b[1;33m\u001b[0m\u001b[0m\n\u001b[0;32m     45\u001b[0m \u001b[1;33m\u001b[0m\u001b[0m\n",
      "\u001b[1;31mAttributeError\u001b[0m: 'builtin_function_or_method' object has no attribute 'data'"
     ]
    }
   ],
   "source": [
    "class Node:\n",
    "    def __init__(self,data):\n",
    "        self.data=data\n",
    "        self.next=next\n",
    "class Stack:\n",
    "    def __init__(self):\n",
    "        self.head=None\n",
    "        self.ctr=0\n",
    "        self.top=None\n",
    "    def push(self,data):\n",
    "        node=Node(data)\n",
    "        if self.head == None:\n",
    "            self.head=node\n",
    "            self.top=node\n",
    "        else:\n",
    "            self.top.next=node\n",
    "            self.top=node\n",
    "        print(\"Node pushed to stack\",data)\n",
    "        self.ctr+=1\n",
    "        return \n",
    "    def pop(self):\n",
    "        if self.head==None:\n",
    "            print(\"Stack Underflow\")\n",
    "        elif self.head==self.top:\n",
    "            print(\"Deleted from Stack\",self.head.data)\n",
    "            self.head=self.top=None\n",
    "            self.ctr-=1\n",
    "        else:\n",
    "            print(\"Deleted from stack\",self.top.data)\n",
    "            temp=self.head\n",
    "            while temp.next is not self.top:\n",
    "                temp=temp.next\n",
    "            temp.next=None\n",
    "            self.top=temp\n",
    "            self.ctr-=1\n",
    "            return\n",
    "    def traverse(self):\n",
    "        if self.head==None:\n",
    "            print(\"No nodes Exist\")\n",
    "            return\n",
    "        temp=self.head\n",
    "        while temp is not None:\n",
    "            print(temp.data)\n",
    "            temp=temp.next\n",
    "        \n",
    "    def reverse(self): \n",
    "        prev = None\n",
    "        current = self.head \n",
    "        while current is not None: \n",
    "            next = current.next\n",
    "            current.next = prev \n",
    "            prev = current \n",
    "            current = next\n",
    "        self.head = prev \n",
    "    \n",
    "a=Stack() \n",
    "a.push('r') \n",
    "a.push('o') \n",
    "a.push('o') \n",
    "a.push('n') \n",
    "a.push('h')\n",
    "a.push('a')\n",
    "a.push('m')\n",
    "a.traverse() \n",
    "a.reverse() \n",
    "print(\"\\nReversed Linked List\")\n",
    "a.traverse()\n"
   ]
  },
  {
   "cell_type": "code",
   "execution_count": 18,
   "metadata": {},
   "outputs": [
    {
     "name": "stdout",
     "output_type": "stream",
     "text": [
      "* \r\n",
      "* * \r\n",
      "* * * \r\n",
      "* * * * \r\n",
      "* * * * * \r\n"
     ]
    }
   ],
   "source": [
    "def py(n):\n",
    "    for i in range (0,n):\n",
    "        for j in range(0,i+1):\n",
    "            print(\"*\",end=\" \")\n",
    "        print(\"\\r\")\n",
    "n=5\n",
    "py(n)\n",
    "    "
   ]
  },
  {
   "cell_type": "code",
   "execution_count": 19,
   "metadata": {},
   "outputs": [
    {
     "name": "stdout",
     "output_type": "stream",
     "text": [
      "            *  \n",
      "           * *  \n",
      "          * * *  \n",
      "         * * * *  \n",
      "        * * * * *  \n",
      "       * * * * * *  \n",
      "      * * * * * * *  \n"
     ]
    }
   ],
   "source": [
    "size=7\n",
    "m=(2*size)-2\n",
    "for i in range(0,size):\n",
    "    for j in range(0,m):\n",
    "        print(end=\" \")\n",
    "    m=m-1\n",
    "    for j in range(0,i+1):\n",
    "        print(\"*\",end=' ')\n",
    "    print(\" \")"
   ]
  },
  {
   "cell_type": "code",
   "execution_count": 26,
   "metadata": {},
   "outputs": [
    {
     "name": "stdout",
     "output_type": "stream",
     "text": [
      "        * \n",
      "      * * \n",
      "    * * * \n",
      "  * * * * \n",
      "* * * * * \n"
     ]
    }
   ],
   "source": [
    "k = 8\n",
    "for i in range(0, 5):\n",
    "    for j in range(0, k):\n",
    "        print(end=\" \")\n",
    "    k = k - 2\n",
    "    for j in range(0, i+1):\n",
    "        print(\"* \", end=\"\")\n",
    "    print()"
   ]
  },
  {
   "cell_type": "code",
   "execution_count": 27,
   "metadata": {},
   "outputs": [
    {
     "name": "stdout",
     "output_type": "stream",
     "text": [
      "* * * * * * \r\n",
      "* * * * * \r\n",
      "* * * * \r\n",
      "* * * \r\n",
      "* * \r\n"
     ]
    }
   ],
   "source": [
    "rows = 5\n",
    "for i in range (rows,0,-1):\n",
    "    for j in range(0, i + 1):\n",
    "        print(\"*\", end=' ')\n",
    "    print(\"\\r\")"
   ]
  },
  {
   "cell_type": "code",
   "execution_count": 28,
   "metadata": {},
   "outputs": [
    {
     "ename": "SyntaxError",
     "evalue": "unexpected EOF while parsing (<ipython-input-28-cc55edc018dc>, line 3)",
     "output_type": "error",
     "traceback": [
      "\u001b[1;36m  File \u001b[1;32m\"<ipython-input-28-cc55edc018dc>\"\u001b[1;36m, line \u001b[1;32m3\u001b[0m\n\u001b[1;33m    \u001b[0m\n\u001b[1;37m    ^\u001b[0m\n\u001b[1;31mSyntaxError\u001b[0m\u001b[1;31m:\u001b[0m unexpected EOF while parsing\n"
     ]
    }
   ],
   "source": [
    "class node:\n",
    "    def __init__(self,data):\n",
    "        "
   ]
  },
  {
   "cell_type": "code",
   "execution_count": 2,
   "metadata": {},
   "outputs": [],
   "source": [
    "class create:\n",
    "    def __init__(self,name,account_number,cnic,phone):\n",
    "        self.name=name\n",
    "        self.account_number=account_number\n",
    "        self.cnic=cnic\n",
    "        self.phone=phone\n",
    "    def saving_account():\n",
    "        pass\n",
    "    def current_account():\n",
    "        pass\n",
    "    def abc():\n",
    "        ch=int(input(\"Enter The Account Type 1:SAVING 2: CURRENT\"))\n",
    "        if ch==1:\n",
    "            saving_account()\n",
    "        if ch==2:\n",
    "            current_account()\n",
    "        else:\n",
    "            print(\"XYZ\")\n",
    "            \n",
    "            \n",
    "        "
   ]
  },
  {
   "cell_type": "code",
   "execution_count": 5,
   "metadata": {},
   "outputs": [
    {
     "ename": "SyntaxError",
     "evalue": "invalid syntax (<ipython-input-5-0ced9a37a3b2>, line 1)",
     "output_type": "error",
     "traceback": [
      "\u001b[1;36m  File \u001b[1;32m\"<ipython-input-5-0ced9a37a3b2>\"\u001b[1;36m, line \u001b[1;32m1\u001b[0m\n\u001b[1;33m    501?why?sukoonok\u001b[0m\n\u001b[1;37m       ^\u001b[0m\n\u001b[1;31mSyntaxError\u001b[0m\u001b[1;31m:\u001b[0m invalid syntax\n"
     ]
    }
   ],
   "source": [
    "class manage:\n",
    "    def__init__(self,name,account_number)\n",
    "    self.name=name\n",
    "    self.account=account\n",
    "    self.account_number=account_number\n",
    "    def balance(self,amount,transaction)\n",
    "    self.amount=amount\n",
    "    self.transaction=transaction\n",
    "    if amount == none\n",
    "    print('you have zero balance')\n",
    "    else\n",
    "    total=amount-transaction\n",
    "    print('total balance is',total)\n",
    "    return total\n",
    "    def issue cheque(self,bank_balance)\n",
    "    self.bank_balance=bank_balance\n",
    "    while bank_balance>cheque\n",
    "    return true"
   ]
  },
  {
   "cell_type": "code",
   "execution_count": null,
   "metadata": {},
   "outputs": [],
   "source": [
    "maza araha hai tumhein "
   ]
  }
 ],
 "metadata": {
  "kernelspec": {
   "display_name": "Python 3",
   "language": "python",
   "name": "python3"
  },
  "language_info": {
   "codemirror_mode": {
    "name": "ipython",
    "version": 3
   },
   "file_extension": ".py",
   "mimetype": "text/x-python",
   "name": "python",
   "nbconvert_exporter": "python",
   "pygments_lexer": "ipython3",
   "version": "3.6.5"
  }
 },
 "nbformat": 4,
 "nbformat_minor": 2
}
