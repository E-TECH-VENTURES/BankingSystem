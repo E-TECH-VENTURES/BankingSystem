{
 "cells": [
  {
   "cell_type": "markdown",
   "metadata": {},
   "source": [
    "#### Libraries imported"
   ]
  },
  {
   "cell_type": "code",
   "execution_count": 1,
   "metadata": {},
   "outputs": [],
   "source": [
    "import numpy as np\n",
    "import pandas as pd\n",
    "import tkinter as tk "
   ]
  },
  {
   "cell_type": "code",
   "execution_count": 1,
   "metadata": {},
   "outputs": [],
   "source": [
    "class BankingSystem:\n",
    "    class AD:\n",
    "        def __init__(self,a,P,F,B,t):\n",
    "            self.account =     a\n",
    "            self.password =    P\n",
    "            self.fileAddress = F\n",
    "            self.balance =     B\n",
    "            self._type =       t\n",
    "            self._next = next\n",
    "    def __init__(self):\n",
    "        self.number_of_acc=0\n",
    "        pass\n",
    "    '''class login(AD):\n",
    "        def __init__(self,AccountName,password):\n",
    "            self._Acc = AccountName\n",
    "            self._password = password\n",
    "            \n",
    "        def checkDetails(self,AccountName,password):\n",
    "            if findAccount(AccountName):\n",
    "                if :                \n",
    "        def findAccount(self,acc,accountList = DefaultList):\\\n",
    "            try:\n",
    "                while True:\n",
    "                    \n",
    "            \n",
    "            else:\n",
    "                False\n",
    "        '''\n",
    "class   Account(BankingSystem):\n",
    "    acc = '4220'\n",
    "    def __init__(self):\n",
    "        super().__init__()\n",
    "        self._name_user=None\n",
    "        self._cnic_num=None\n",
    "        self._phone=None\n",
    "        self.cheque = False\n",
    "        self.c_card = False\n",
    "    def account_number_generate(self):\n",
    "\n",
    "        pstart=24010000\n",
    "        pinterval=1\n",
    "        if (self.number_of_acc==0):\n",
    "            rec=pstart\n",
    "        else:\n",
    "            rec=rec+pinterval\n",
    "        last=rec\n",
    "        return rec\n",
    "\n",
    "    def create_account(self):\n",
    "        acc = self.acc\n",
    "        name=input(\"enter the name of user \")\n",
    "        cnic_num=int(input(\"enter the cnic number of user \"))\n",
    "        phone  =int(input(\"enter phone number \"))\n",
    "        address=input(\"enter the address\")\n",
    "        self.acc = acc = acc[:-1]+str(int(acc[-1]) + 1)\n",
    "        password=input(\"set password \")\n",
    "        balance=0\n",
    "        ac_type=input(\"enter the account type: \")\n",
    "        account=self.AD(acc,password,acc+'.txt',balance,ac_type)\n",
    "        self.number_of_acc+=1\n",
    "\n",
    "        with open(acc+\".txt\",\"w\") as f:\n",
    "            f.write(\"Account: \"+str(account)+\"\\nBalance: \"+str(balance)+\"\\nType: \"+str(ac_type))\n",
    "    def removeAccount(self,acc):\n",
    "        self._type = \"Passive\"\n",
    "\n",
    "    def transfer_money(self,other,amount,date):\n",
    "        self._balance-=amount\n",
    "        other._balance+=amount\n",
    "        with open (self.fileAddress) as file:\n",
    "            file.write(\"\\n new balance =\",self.balance)\n",
    "            file.write(\"date of transaction made :\",date)\n",
    "            file.close()\n",
    "        with open (other.fileAdress) as file2:\n",
    "            file2.write(\"new balance after new transaction made on  \",date ,\"=  \", other.balance)\n",
    "            file2.close()\n",
    "    def withdraw_money(self,amount,date):\n",
    "        self._balance-=amount\n",
    "        with open (self.fileAddress) as file:\n",
    "            file.write(\"\\n new balance =\",self.balance)\n",
    "            file.write(\"date of withdrawal  :\",date)\n",
    "            file.close()\n",
    "\n",
    "class Manage_account(Account,BankingSystem):\n",
    "    def applyForCreditCard(self):\n",
    "        self.c_card = True\n",
    "        return\n",
    "    def applyForCheque(self):\n",
    "        self.cheque = True\n",
    "        return\n",
    "    def balanceSheet(self):\n",
    "        pass               #return the entire file data\n",
    "\n"
   ]
  },
  {
   "cell_type": "code",
   "execution_count": 83,
   "metadata": {},
   "outputs": [],
   "source": [
    "bs = BankingSystem()"
   ]
  },
  {
   "cell_type": "code",
   "execution_count": 84,
   "metadata": {},
   "outputs": [],
   "source": [
    "ac = Account()"
   ]
  },
  {
   "cell_type": "code",
   "execution_count": 85,
   "metadata": {},
   "outputs": [],
   "source": [
    "ma = Manage_account()"
   ]
  },
  {
   "cell_type": "code",
   "execution_count": 86,
   "metadata": {},
   "outputs": [
    {
     "name": "stdout",
     "output_type": "stream",
     "text": [
      "enter the name of user Ariba\n",
      "enter the cnic number of user 42201\n",
      "enter phone number 0321\n",
      "enter the addressA-45\n",
      "set password 1021\n",
      "enter the account type: C\n"
     ]
    }
   ],
   "source": [
    "ma.create_account()"
   ]
  },
  {
   "cell_type": "code",
   "execution_count": null,
   "metadata": {},
   "outputs": [],
   "source": []
  }
 ],
 "metadata": {
  "kernelspec": {
   "display_name": "Python 3",
   "language": "python",
   "name": "python3"
  },
  "language_info": {
   "codemirror_mode": {
    "name": "ipython",
    "version": 3
   },
   "file_extension": ".py",
   "mimetype": "text/x-python",
   "name": "python",
   "nbconvert_exporter": "python",
   "pygments_lexer": "ipython3",
   "version": "3.7.0"
  }
 },
 "nbformat": 4,
 "nbformat_minor": 2
}
