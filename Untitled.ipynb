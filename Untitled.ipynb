{
 "cells": [
  {
   "cell_type": "code",
   "execution_count": null,
   "metadata": {},
   "outputs": [],
   "source": [
    "import numpy as np\n",
    "import pandas as pd\n",
    "import tkinter as tk "
   ]
  },
  {
   "cell_type": "code",
   "execution_count": 2,
   "metadata": {},
   "outputs": [],
   "source": [
    "class BankingSystem:\n",
    "    def __init__(self):\n",
    "        pass\n",
    "    def "
   ]
  },
  {
   "cell_type": "code",
   "execution_count": 12,
   "metadata": {},
   "outputs": [],
   "source": [
    "class login(BankingSystem):\n",
    "    def __init__(self,account,password):\n",
    "        self.account = account\n",
    "        self.password = password\n",
    "    def checkDetails(self,account,password):\n",
    "        if acount in accountList:\n",
    "            if password == accountPass(account):\n",
    "                return True\n",
    "            else:\n",
    "                print(\"Incorrect Details\")\n",
    "                return False\n",
    "        else:\n",
    "            print(\"Incorrect Details\")\n",
    "            return False"
   ]
  },
  {
   "cell_type": "code",
   "execution_count": null,
   "metadata": {},
   "outputs": [],
   "source": []
  },
  {
   "cell_type": "code",
   "execution_count": 6,
   "metadata": {},
   "outputs": [],
   "source": [
    "class Accounts(BankingSystem):\n",
    "    def __init__(self):\n",
    "        self.withdrawal = 0\n",
    "        self.deposit = 0\n",
    "    def CheckAccunt(self,name,accountNumber):\n",
    "        if \n",
    "    def TransferAmount(self,amount,name,accountNumber):\n",
    "        while True:\n",
    "            if checkAccount(name,accountNumber):\n",
    "                if checkBalance(accountNumber,amount):\n",
    "                    self.netAmount -= amount\n",
    "                    print(amount,\" has been transfered to \",accountNumber)\n",
    "                    break\n",
    "                else:\n",
    "                    print(\"You don't have enough amount\")\n",
    "                    break\n",
    "            else:\n",
    "                print(\"Authentification failed!\")\n",
    "                break\n",
    "    def DepositAmount(self,amount,name,accountNumber):\n",
    "        "
   ]
  },
  {
   "cell_type": "code",
   "execution_count": 7,
   "metadata": {},
   "outputs": [],
   "source": [
    "class Create(Accounts):\n",
    "    def __init__(self):\n",
    "        pass"
   ]
  },
  {
   "cell_type": "code",
   "execution_count": 8,
   "metadata": {},
   "outputs": [],
   "source": [
    "class Delete(Accounts):\n",
    "    def __init__(self):\n",
    "        pass"
   ]
  },
  {
   "cell_type": "code",
   "execution_count": 9,
   "metadata": {},
   "outputs": [],
   "source": [
    "class Manage(Accounts):\n",
    "    def __init__(self):\n",
    "        self.withdrawal = 0\n",
    "        self.deposit = 0\n",
    "    def TransferAmount(self,amount,name,accountNumber):\n",
    "        while True:\n",
    "            if checkAccount(name,accountNumber):\n",
    "                if checkBalance(accountNumber,amount):\n",
    "                    self.netAmount -= amount\n",
    "                    print(amount,\" has been transfered to \",accountNumber)\n",
    "                    break\n",
    "                else:\n",
    "        \n",
    "        print(\"You don't have enough amount\")\n",
    "                    break\n",
    "            else:\n",
    "                print(\"Authentification failed!\")\n",
    "                break\n",
    "    def DepositAmount(self,amount,name,accountNumber):\n",
    "        "
   ]
  },
  {
   "cell_type": "code",
   "execution_count": 14,
   "metadata": {},
   "outputs": [],
   "source": [
    "def run():\n",
    "    num = input(\"Enter account number\")\n",
    "    password = input(\"Enter password\")\n",
    "    a = login(num,password)\n",
    "    if a.checkDetails(num,password):\n",
    "        pass"
   ]
  },
  {
   "cell_type": "code",
   "execution_count": null,
   "metadata": {},
   "outputs": [],
   "source": []
  }
 ],
 "metadata": {
  "kernelspec": {
   "display_name": "Python 3",
   "language": "python",
   "name": "python3"
  },
  "language_info": {
   "codemirror_mode": {
    "name": "ipython",
    "version": 3
   },
   "file_extension": ".py",
   "mimetype": "text/x-python",
   "name": "python",
   "nbconvert_exporter": "python",
   "pygments_lexer": "ipython3",
   "version": "3.6.5"
  }
 },
 "nbformat": 4,
 "nbformat_minor": 2
}
